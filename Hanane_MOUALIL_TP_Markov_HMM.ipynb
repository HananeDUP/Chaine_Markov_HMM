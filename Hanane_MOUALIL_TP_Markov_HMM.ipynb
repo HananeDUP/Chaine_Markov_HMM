{
 "cells": [
  {
   "cell_type": "markdown",
   "metadata": {},
   "source": [
    "Hanane MOUALIL CES-DataScience-2020"
   ]
  },
  {
   "cell_type": "code",
   "execution_count": 1,
   "metadata": {},
   "outputs": [],
   "source": [
    "import numpy as np"
   ]
  },
  {
   "cell_type": "markdown",
   "metadata": {},
   "source": [
    "# PARTIE 1"
   ]
  },
  {
   "cell_type": "markdown",
   "metadata": {},
   "source": [
    "## I-2 Chaine de Markov"
   ]
  },
  {
   "cell_type": "markdown",
   "metadata": {},
   "source": [
    "### I-2-a Matrices de transitions"
   ]
  },
  {
   "cell_type": "markdown",
   "metadata": {},
   "source": [
    "##### Data"
   ]
  },
  {
   "cell_type": "code",
   "execution_count": 2,
   "metadata": {},
   "outputs": [],
   "source": [
    "filename_A= 'bigramenglish.txt' \n",
    "bigram_eng=np.loadtxt(filename_A)"
   ]
  },
  {
   "cell_type": "code",
   "execution_count": 3,
   "metadata": {},
   "outputs": [
    {
     "name": "stdout",
     "output_type": "stream",
     "text": [
      "28 28\n"
     ]
    }
   ],
   "source": [
    "n_rows=len(bigram_eng)\n",
    "n_cols=len(bigram_eng[0])\n",
    "print(n_rows,n_cols)"
   ]
  },
  {
   "cell_type": "code",
   "execution_count": 4,
   "metadata": {},
   "outputs": [],
   "source": [
    "dict_alphabet={'1' : ' ', '2' : 'a', '3' : 'b', '4': 'c', '5' : 'd', '6' : 'e', '7': 'f',  \n",
    "               '8' : 'g', '9' : 'h', '10': 'i', '11': 'j', '12' : 'k', '13' : 'l', '14': 'm', '15' : 'n', \n",
    "               '16' : 'o', '17': 'p', '18' : 'q', '19' : 'r' , '20': 's',  '21' : 't', '22' : 'u', '23': 'v',  \n",
    "               '24' : 'w', '25' : 'x' , '26': 'y',  '27' : 'z', '28' : '' } "
   ]
  },
  {
   "cell_type": "markdown",
   "metadata": {},
   "source": [
    "##### A quelles probabilités correspond la première ligne de la matrice de transition ? et celles de la dernière colonne ?  \n"
   ]
  },
  {
   "cell_type": "markdown",
   "metadata": {},
   "source": [
    "La première ligne correspond aux probabités de passage de l'espace de début d'un mot vers les 28 symboles. \n",
    "Exemple a12: probablité de passage de l'espace vers la lettre a\n",
    "\n",
    "La dernière colonne correspond aux probabités de passage de chaque symbole des 28 vers l'espace de fin. \n",
    "Exemple a3,28: probablité de passage de la lettre b de l'espace vers la fin du mot."
   ]
  },
  {
   "cell_type": "markdown",
   "metadata": {},
   "source": [
    "##### Pour chaque lettre de l’alphabet, indiquer la transition la plus fréquente depuis cette lettre: ==>\n",
    "  La transition la plus grande est indiqué par la probablité la plus importante sur chaque ligne"
   ]
  },
  {
   "cell_type": "code",
   "execution_count": 5,
   "metadata": {},
   "outputs": [
    {
     "name": "stdout",
     "output_type": "stream",
     "text": [
      "0 20    From:      to t\n",
      "1 14    From: a    to n\n",
      "2 5    From: b    to e\n",
      "3 15    From: c    to o\n",
      "4 27    From: d    to \n",
      "5 27    From: e    to \n",
      "6 27    From: f    to \n",
      "7 27    From: g    to \n",
      "8 5    From: h    to e\n",
      "9 14    From: i    to n\n",
      "10 15    From: j    to o\n",
      "11 27    From: k    to \n",
      "12 5    From: l    to e\n",
      "13 5    From: m    to e\n",
      "14 27    From: n    to \n",
      "15 14    From: o    to n\n",
      "16 5    From: p    to e\n",
      "17 21    From: q    to u\n",
      "18 5    From: r    to e\n",
      "19 27    From: s    to \n",
      "20 8    From: t    to h\n",
      "21 18    From: u    to r\n",
      "22 5    From: v    to e\n",
      "23 1    From: w    to a\n",
      "24 20    From: x    to t\n",
      "25 27    From: y    to \n",
      "26 5    From: z    to e\n",
      "27 27    From:     to \n"
     ]
    }
   ],
   "source": [
    "dict_freq={}\n",
    "for i in range(0,n_rows):\n",
    "    max_value=np.max(bigram_eng[i])\n",
    "    index_freq=np.where(bigram_eng[i]==max_value)[0][0]\n",
    "    print(i,index_freq,\"   From:\",dict_alphabet[str(i+1)],\"   to\",dict_alphabet[str(index_freq+1)])"
   ]
  },
  {
   "cell_type": "code",
   "execution_count": 6,
   "metadata": {},
   "outputs": [
    {
     "data": {
      "text/plain": [
       "[[' ', 't'],\n",
       " ['a', 'n'],\n",
       " ['b', 'e'],\n",
       " ['c', 'o'],\n",
       " ['d', ''],\n",
       " ['e', ''],\n",
       " ['f', ''],\n",
       " ['g', ''],\n",
       " ['h', 'e'],\n",
       " ['i', 'n'],\n",
       " ['j', 'o'],\n",
       " ['k', ''],\n",
       " ['l', 'e'],\n",
       " ['m', 'e'],\n",
       " ['n', ''],\n",
       " ['o', 'n'],\n",
       " ['p', 'e'],\n",
       " ['q', 'u'],\n",
       " ['r', 'e'],\n",
       " ['s', ''],\n",
       " ['t', 'h'],\n",
       " ['u', 'r'],\n",
       " ['v', 'e'],\n",
       " ['w', 'a'],\n",
       " ['x', 't'],\n",
       " ['y', ''],\n",
       " ['z', 'e'],\n",
       " ['', '']]"
      ]
     },
     "execution_count": 6,
     "metadata": {},
     "output_type": "execute_result"
    }
   ],
   "source": [
    "#une atre façon de voir le résultat\n",
    "arra_freq=[]\n",
    "for i in range(0,n_rows):\n",
    "    max_value=np.max(bigram_eng[i])\n",
    "    index_freq=np.where(bigram_eng[i]==max_value)[0][0]\n",
    "    arra_freq.append([dict_alphabet[str(i+1)],dict_alphabet[str(index_freq+1)]])\n",
    "arra_freq"
   ]
  },
  {
   "cell_type": "markdown",
   "metadata": {},
   "source": [
    "### I.2.b Générer un mot"
   ]
  },
  {
   "cell_type": "markdown",
   "metadata": {},
   "source": [
    "On veut générer un mot à partir de l’état initial 1 (espace de début de mot).  \n",
    " \n",
    "Ecrire une fonction etat_suivant qui génère un état (à t+1) à partir de l’état courant (à t) et\n",
    "à l’aide de la matrice de transitions et de la fonction de répartition.  \n",
    "Afficher sur un graphique la fonction de répartition pour une ligne de la matrice de transition \n",
    "et expliquer son rôle pour la génération de l’état à t+1. \n",
    " \n",
    "Utiliser cette fonction pour écrire la fonction genere_state_seq qui génère une séquence d’états jusqu’à aboutir à l’état final (28). \n",
    "Ecrire une fonction display_seq qui transforme une séquence d’états en séquence de caractères, à l’aide d’un dictionnaire. \n",
    "Utiliser ces fonctions pour générer des mots et donner des exemples de mots générés. "
   ]
  },
  {
   "cell_type": "code",
   "execution_count": 7,
   "metadata": {},
   "outputs": [
    {
     "data": {
      "text/plain": [
       "0.928151817883275"
      ]
     },
     "execution_count": 7,
     "metadata": {},
     "output_type": "execute_result"
    }
   ],
   "source": [
    "np.random.uniform(0,1)"
   ]
  },
  {
   "cell_type": "markdown",
   "metadata": {},
   "source": [
    "##### La fonction etat_suivant génère un état (à t+1) à partir de l’état courant (à t) et à l’aide de la matrice de transitions et de la fonction de répartition.  "
   ]
  },
  {
   "cell_type": "code",
   "execution_count": 8,
   "metadata": {},
   "outputs": [],
   "source": [
    "def etat_suivant(matrice_transition,state):\n",
    "    rand=np.random.uniform(0,1)\n",
    "    row_trans_state=matrice_transition[state-1]\n",
    "    row_cumsum=np.cumsum(row_trans_state)\n",
    "    rand_index=np.where(row_cumsum>=rand)[0][0]\n",
    "    nextState=rand_index+1\n",
    "    return nextState"
   ]
  },
  {
   "cell_type": "code",
   "execution_count": 9,
   "metadata": {},
   "outputs": [
    {
     "data": {
      "text/plain": [
       "19"
      ]
     },
     "execution_count": 9,
     "metadata": {},
     "output_type": "execute_result"
    }
   ],
   "source": [
    "#state from 1 to 28\n",
    "etat_suivant(bigram_eng,6)"
   ]
  },
  {
   "cell_type": "markdown",
   "metadata": {},
   "source": [
    "##### Afficher sur un graphique la fonction de répartition pour une ligne de la matrice de transition"
   ]
  },
  {
   "cell_type": "code",
   "execution_count": 10,
   "metadata": {},
   "outputs": [],
   "source": [
    "import matplotlib.pyplot as plt"
   ]
  },
  {
   "cell_type": "code",
   "execution_count": 11,
   "metadata": {},
   "outputs": [
    {
     "data": {
      "text/plain": [
       "[<matplotlib.lines.Line2D at 0x1ecc2ad9898>]"
      ]
     },
     "execution_count": 11,
     "metadata": {},
     "output_type": "execute_result"
    },
    {
     "data": {
      "image/png": "[encoded data removed]",
      "text/plain": [
       "<Figure size 432x288 with 1 Axes>"
      ]
     },
     "metadata": {},
     "output_type": "display_data"
    }
   ],
   "source": [
    "row_trans_qt0=bigram_eng[0]\n",
    "row_cumsum=np.cumsum(row_trans_qt0)\n",
    "plt.plot(row_cumsum)\n",
    "#le role de la fonction cumsum: la fonction de répartition va permettre en fonction de la probablité observée pour un état donné, \n",
    "# de préciser l'état suivant sur lequel on passe"
   ]
  },
  {
   "cell_type": "markdown",
   "metadata": {},
   "source": [
    "##### la fonction genere_state_seq qui génère une séquence d’états jusqu’à aboutir à l’état final (28)."
   ]
  },
  {
   "cell_type": "code",
   "execution_count": 12,
   "metadata": {},
   "outputs": [],
   "source": [
    "def genere_state_seq(matrice_transition,stop_index) :\n",
    "    #Initialization\n",
    "    state_seq=[]\n",
    "    state=1\n",
    "    while state != stop_index :\n",
    "        state=etat_suivant(matrice_transition,state)\n",
    "        state_seq.append(state)\n",
    "    return np.array(state_seq)"
   ]
  },
  {
   "cell_type": "markdown",
   "metadata": {},
   "source": [
    "###### Exemples de séquences générées:"
   ]
  },
  {
   "cell_type": "code",
   "execution_count": 13,
   "metadata": {},
   "outputs": [
    {
     "name": "stdout",
     "output_type": "stream",
     "text": [
      "[ 4 16 15 28]\n",
      "[21  9  6 21  6 28]\n",
      "[24 16  7 28]\n",
      "[10 15 28]\n",
      "[ 7 16  7 16  7 28]\n"
     ]
    }
   ],
   "source": [
    "for i in range(5):\n",
    "    print(genere_state_seq(bigram_eng,28))"
   ]
  },
  {
   "cell_type": "markdown",
   "metadata": {},
   "source": [
    "##### fonction display_seq"
   ]
  },
  {
   "cell_type": "markdown",
   "metadata": {},
   "source": [
    "Ecrire une fonction display_seq qui transforme une séquence d’états en séquence de caractères, à l’aide d’un dictionnaire. "
   ]
  },
  {
   "cell_type": "code",
   "execution_count": 14,
   "metadata": {},
   "outputs": [],
   "source": [
    "# soit on donne la séquence de transition directement, \n",
    "# soit on donne les arguments de la fonction genere_state_seq et on l'appelle à l'intérieur\n",
    "def display_seq(matrice_transition,dict_alphabet,stop_index):\n",
    "    #l'ideal récupérer\n",
    "    seq_state=genere_state_seq(matrice_transition,stop_index)\n",
    "    seq_lettre=[dict_alphabet[str(elem)] for elem in seq_state]\n",
    "    seq_lettre=''.join(seq_lettre)\n",
    "    return seq_lettre"
   ]
  },
  {
   "cell_type": "markdown",
   "metadata": {},
   "source": [
    "##### Utiliser ces fonctions pour générer des mots et donner des exemples de mots générés. "
   ]
  },
  {
   "cell_type": "code",
   "execution_count": 15,
   "metadata": {},
   "outputs": [
    {
     "name": "stdout",
     "output_type": "stream",
     "text": [
      "wibs\n",
      "nto\n",
      "arestever\n",
      "hat\n",
      "f\n",
      "thelf\n",
      "w\n",
      "patwhigre\n",
      "wod\n",
      "fream\n"
     ]
    }
   ],
   "source": [
    "for j in range(10):\n",
    "    print(display_seq(bigram_eng,dict_alphabet,28))"
   ]
  },
  {
   "cell_type": "markdown",
   "metadata": {},
   "source": [
    "### I.2.c Générer une phrase "
   ]
  },
  {
   "cell_type": "markdown",
   "metadata": {},
   "source": [
    "On veut générer une suite de mots (phrase). \n",
    "Créer un état final de phrase (état 29, correspondant au caractère .  ) \n",
    "dont la probabilité de transition vers cet état depuis un état final de mot est 0.1. \n",
    "Ecrire une fonction modifie_mat_dic qui modifie la matrice de transition et le dictionnaire en conséquence. \n",
    "Donner des exemples de phrases générées. "
   ]
  },
  {
   "cell_type": "markdown",
   "metadata": {},
   "source": [
    "##### Créer un état final de phrase (état 29, correspondant au caractère .  ) \n",
    "##### La fonction modifie_mat_dic"
   ]
  },
  {
   "cell_type": "code",
   "execution_count": 16,
   "metadata": {},
   "outputs": [],
   "source": [
    "def modifie_mat_dic(matrice_transition,dict_alphabet):\n",
    "    matrice_transition_mod=matrice_transition.copy()\n",
    "    n_rows=len(matrice_transition_mod)\n",
    "    n_cols=len(matrice_transition_mod[0])\n",
    "    \n",
    "    #Rajouter une dernière colonne correspondant à l'état final de phrase\n",
    "    col_final=np.zeros(n_rows).reshape(-1,1)\n",
    "    matrice_transition_mod=np.append(matrice_transition_mod,col_final,axis=1)\n",
    "    \n",
    "    #Modifier la dernière ligne existante dans la matrice de transition:\n",
    "    #dans la première matrice: de l'espace final de mot vers lui même ==> a28,28=1\n",
    "    #dans la nouvelle matrice: de l'espace final de mot vers l'espace final de phrase  ==> a28,29=0.1 (avec 29=\".\") \n",
    "    #dans la nouvelle matrice: de l'espace final de mot vers l'espace au début du mot ==> a28,0=0.9\n",
    "    final_espace=np.zeros(n_cols+1)\n",
    "    final_espace[0]=0.9\n",
    "#     final_espace[-2]=0.9\n",
    "    final_espace[-1]=0.1\n",
    "\n",
    "    matrice_transition_mod[-1]=np.zeros(n_cols+1)\n",
    "    matrice_transition_mod[-1]=final_espace\n",
    "    \n",
    "    #Rajouter la dernière ligne correspondant à l'état final de phrase\n",
    "    final_phrase=np.zeros(n_cols+1)\n",
    "    final_phrase[-1]=1\n",
    "    matrice_transition_mod=np.append(matrice_transition_mod,final_phrase.reshape(1,-1),axis=0)\n",
    "    \n",
    "    dict_alphabet_mod=dict_alphabet.copy()\n",
    "    dict_alphabet_mod.update({'29':'.'})\n",
    "    return matrice_transition_mod,dict_alphabet_mod"
   ]
  },
  {
   "cell_type": "markdown",
   "metadata": {},
   "source": [
    "##### New matrice transition and dict"
   ]
  },
  {
   "cell_type": "code",
   "execution_count": 17,
   "metadata": {},
   "outputs": [],
   "source": [
    "bigram_eng_mod, dict_alphabet_mod=modifie_mat_dic(bigram_eng,dict_alphabet)"
   ]
  },
  {
   "cell_type": "markdown",
   "metadata": {},
   "source": [
    "##### Donner des exemples de phrases générées. "
   ]
  },
  {
   "cell_type": "code",
   "execution_count": 18,
   "metadata": {},
   "outputs": [
    {
     "name": "stdout",
     "output_type": "stream",
     "text": [
      "by on alliserveitiold inomestitio antid h winorefr tas atth.\n",
      "mbowild tyed areng harrss inupate ntro leneeylichis pes.\n",
      "ous d ckoctis ar erd punaline antharchemaly d ppsthis inx sthivindrray tite anend f theshiten otoues mrs st hooonckery d wo g an borderes t cta th alin h terye nve imy.\n",
      "s depr.\n",
      "t ie witny rs y.\n",
      "g iceay l it ay on plde pin d n ers softhenghurerso e leancacrs knen othathed fentowd cile.\n",
      "t mmared rpruendus r herrwak pove cle nglrigr tandims phee.\n",
      "we ner.\n",
      "wessonkiplly n o areaknticry of s sto s they or e t stt bicked t binl w becis iond whe en wad anosthe lyobe sthan tatixive hofogior g toumes bee as thune t o use oner arer.\n",
      "hinvemanqued.\n"
     ]
    }
   ],
   "source": [
    "for i in range(0,10):\n",
    "    print(display_seq(bigram_eng_mod,dict_alphabet_mod,29))"
   ]
  },
  {
   "cell_type": "markdown",
   "metadata": {},
   "source": [
    "## I.3. Reconnaissance de la langue "
   ]
  },
  {
   "cell_type": "raw",
   "metadata": {},
   "source": [
    "Charger la matrice des transitions entre caractères pour le français. \n",
    "Ecrire une fonction calc_vraisemblance qui calcule la vraisemblance du modèle français pour une phrase donnée \n",
    "en multipliant les probabilités de transition. \n",
    "Pour tenir compte de toutes les transitions (notamment celles entre espaces de fin et de début de mots et vers la fin de phrase) \n",
    "on pourra transformer (manuellement) une séquence « mot1 mot2.» par la séquence  « -mot1+-mot2+.», \n",
    "les signes - , + et . représentant l’état initial de mot, l’état final de mot et l’état final de phrase,  respectivement. \n",
    "Calculer la vraisemblance des modèles français et anglais pour la phrase « to be or not to be ». \n",
    "De même calculer la vraisemblance des modèles français et anglais pour la phrase « etre ou ne pas etre ». "
   ]
  },
  {
   "cell_type": "markdown",
   "metadata": {},
   "source": [
    "##### Charger la matrice des transitions entre caractères pour le français"
   ]
  },
  {
   "cell_type": "code",
   "execution_count": 19,
   "metadata": {},
   "outputs": [
    {
     "name": "stdout",
     "output_type": "stream",
     "text": [
      "# rows 28\n",
      "# cols 28\n"
     ]
    }
   ],
   "source": [
    "filename_F= 'bigramfrancais.txt' \n",
    "bigram_fr=np.loadtxt(filename_F)\n",
    "print(\"# rows\",len(bigram_fr))\n",
    "print(\"# cols\",len(bigram_fr[0]))"
   ]
  },
  {
   "cell_type": "markdown",
   "metadata": {},
   "source": [
    "##### Modifier cette matrice de transition pour prendre en compte le symbole 29 le point \".\""
   ]
  },
  {
   "cell_type": "code",
   "execution_count": 20,
   "metadata": {},
   "outputs": [],
   "source": [
    "bigram_fr_mod, dict_alphabet_mod=modifie_mat_dic(bigram_fr,dict_alphabet)"
   ]
  },
  {
   "cell_type": "markdown",
   "metadata": {},
   "source": [
    "##### Modifier le dictionnaire"
   ]
  },
  {
   "cell_type": "code",
   "execution_count": 21,
   "metadata": {},
   "outputs": [
    {
     "data": {
      "text/plain": [
       "{'-': '1',\n",
       " 'a': '2',\n",
       " 'b': '3',\n",
       " 'c': '4',\n",
       " 'd': '5',\n",
       " 'e': '6',\n",
       " 'f': '7',\n",
       " 'g': '8',\n",
       " 'h': '9',\n",
       " 'i': '10',\n",
       " 'j': '11',\n",
       " 'k': '12',\n",
       " 'l': '13',\n",
       " 'm': '14',\n",
       " 'n': '15',\n",
       " 'o': '16',\n",
       " 'p': '17',\n",
       " 'q': '18',\n",
       " 'r': '19',\n",
       " 's': '20',\n",
       " 't': '21',\n",
       " 'u': '22',\n",
       " 'v': '23',\n",
       " 'w': '24',\n",
       " 'x': '25',\n",
       " 'y': '26',\n",
       " 'z': '27',\n",
       " '+': '28',\n",
       " '.': '29'}"
      ]
     },
     "execution_count": 21,
     "metadata": {},
     "output_type": "execute_result"
    }
   ],
   "source": [
    "dict_alphabet_mod['1']='-'\n",
    "dict_alphabet_mod['28']='+'\n",
    "dict_alphabet_inverse={v:k for k,v in dict_alphabet_mod.items()}\n",
    "dict_alphabet_inverse"
   ]
  },
  {
   "cell_type": "markdown",
   "metadata": {},
   "source": [
    "##### fonction calc_vraisemblance"
   ]
  },
  {
   "cell_type": "code",
   "execution_count": 22,
   "metadata": {},
   "outputs": [],
   "source": [
    "def calc_vraisemblance(matrice_transition_mod,dict_alphabet_mod,phrase_ang):\n",
    "    dict_alphabet_inverse={v:k for k,v in dict_alphabet_mod.items()}\n",
    "    vraissemblance=1\n",
    "    for i,elem in enumerate(phrase_ang):\n",
    "        i_row=dict_alphabet_inverse[elem]\n",
    "#         print(i,\" from \",i_row,elem)\n",
    "        if i<len(phrase_ang)-1: # car on utilise i+1 pour ne pas être \"index out of range\" quand on arrive à la fin\n",
    "            i_col=dict_alphabet_inverse[phrase_ang[i+1]]\n",
    "#             print(i,\" from \",i_row,\" to \",i_col, \" ====>\",\" from \",elem,\" to \",phrase_ang[i+1])\n",
    "        proba_i=matrice_transition_mod[int(i_row)-1][int(i_col)-1]\n",
    "        vraissemblance*=proba_i\n",
    "    return vraissemblance"
   ]
  },
  {
   "cell_type": "markdown",
   "metadata": {},
   "source": [
    "##### Calculer la vraisemblance des modèles français et anglais pour la phrase « to be or not to be ». \n",
    "##### De même calculer la vraisemblance des modèles français et anglais pour la phrase « etre ou ne pas etre ». "
   ]
  },
  {
   "cell_type": "code",
   "execution_count": 23,
   "metadata": {},
   "outputs": [
    {
     "name": "stdout",
     "output_type": "stream",
     "text": [
      "-to+-be+-or+-not+-to+-be+. matrice transition en anglais 8.112892227809415e-20\n",
      "-to+-be+-or+-not+-to+-be+. matrice transition en français 5.9602081018686406e-30\n",
      "-etre+-ou+-ne+-pas+-etre+. matrice transition en anglais 4.462288711775253e-24\n",
      "-etre+-ou+-ne+-pas+-etre+. matrice transition en français 1.145706887234789e-19\n"
     ]
    }
   ],
   "source": [
    "phrase_ang=\"-to+-be+-or+-not+-to+-be+.\"\n",
    "print(phrase_ang,\"matrice transition en anglais\",calc_vraisemblance(bigram_eng_mod,dict_alphabet_mod,phrase_ang))\n",
    "print(phrase_ang,\"matrice transition en français\",calc_vraisemblance(bigram_fr_mod,dict_alphabet_mod,phrase_ang))\n",
    "phrase_fr=\"-etre+-ou+-ne+-pas+-etre+.\"\n",
    "print(phrase_fr,\"matrice transition en anglais\",calc_vraisemblance(bigram_eng_mod,dict_alphabet_mod,phrase_fr))\n",
    "print(phrase_fr,\"matrice transition en français\",calc_vraisemblance(bigram_fr_mod,dict_alphabet_mod,phrase_fr))"
   ]
  },
  {
   "cell_type": "markdown",
   "metadata": {},
   "source": [
    "# PARTIE 2"
   ]
  },
  {
   "cell_type": "markdown",
   "metadata": {},
   "source": [
    "# II. 2. Génération de séquences d’observations "
   ]
  },
  {
   "cell_type": "markdown",
   "metadata": {},
   "source": [
    "Les matrices A0.txt, B0.txt, vect_p0.txt  contiennent les matrices A, B, et le vecteur π correspondant au modèle de Markov \n",
    "caché du chiffre 0. Le fichier matrice_symboles.txt contient le dictionnaire de symboles = la matrice v."
   ]
  },
  {
   "cell_type": "markdown",
   "metadata": {},
   "source": [
    "## Charger ces fichiers depuis le site dédié."
   ]
  },
  {
   "cell_type": "code",
   "execution_count": 24,
   "metadata": {},
   "outputs": [
    {
     "name": "stdout",
     "output_type": "stream",
     "text": [
      "# nombres de pixels 5\n",
      "# nombres d'obseravtions 32\n"
     ]
    }
   ],
   "source": [
    "filename=\"data_txt_compact/matrice_symboles.txt\"\n",
    "v=np.loadtxt(filename)\n",
    "\n",
    "nbr_pixel=len(v) # nombres de pixels\n",
    "print(\"# nombres de pixels\",nbr_pixel)\n",
    "nbr_obs=len(v[0]) # nombres d'obseravtions\n",
    "print(\"# nombres d'obseravtions\",nbr_obs)"
   ]
  },
  {
   "cell_type": "markdown",
   "metadata": {},
   "source": [
    "##### Chiffre 0"
   ]
  },
  {
   "cell_type": "code",
   "execution_count": 25,
   "metadata": {},
   "outputs": [],
   "source": [
    "filename=\"data_txt_compact/A0.txt\"\n",
    "A0=np.loadtxt(filename)\n",
    "filename=\"data_txt_compact/B0.txt\"\n",
    "B0=np.loadtxt(filename)\n",
    "filename=\"data_txt_compact/vect_pi0.txt\"\n",
    "vect_pi0=np.loadtxt(filename)\n",
    "filename=\"data_txt_compact/seqTest0.txt\"\n",
    "seqTest0=np.loadtxt(filename)"
   ]
  },
  {
   "cell_type": "markdown",
   "metadata": {},
   "source": [
    "##### Chiffre 1"
   ]
  },
  {
   "cell_type": "code",
   "execution_count": 26,
   "metadata": {},
   "outputs": [],
   "source": [
    "filename=\"data_txt_compact/A1.txt\"\n",
    "A1=np.loadtxt(filename)\n",
    "filename=\"data_txt_compact/B1.txt\"\n",
    "B1=np.loadtxt(filename)\n",
    "filename=\"data_txt_compact/vect_pi1.txt\"\n",
    "vect_pi1=np.loadtxt(filename)\n",
    "filename=\"data_txt_compact/seqTest1.txt\"\n",
    "seqTest1=np.loadtxt(filename)"
   ]
  },
  {
   "cell_type": "markdown",
   "metadata": {},
   "source": [
    "##### Chiffre 7"
   ]
  },
  {
   "cell_type": "code",
   "execution_count": 27,
   "metadata": {},
   "outputs": [],
   "source": [
    "filename=\"data_txt_compact/A7.txt\"\n",
    "A7=np.loadtxt(filename)\n",
    "filename=\"data_txt_compact/B7.txt\"\n",
    "B7=np.loadtxt(filename)\n",
    "filename=\"data_txt_compact/vect_pi7.txt\"\n",
    "vect_pi7=np.loadtxt(filename)\n",
    "filename=\"data_txt_compact/seqTest7.txt\"\n",
    "seqTest7=np.loadtxt(filename)"
   ]
  },
  {
   "cell_type": "markdown",
   "metadata": {},
   "source": [
    "## II. 2.1 A quoi correspondent les zéros de la matrice B ? et ceux de la matrice A et du vecteur π ? "
   ]
  },
  {
   "cell_type": "raw",
   "metadata": {},
   "source": [
    "la matrice B correspond à la probablité d'observation des symboles dans les états. \n",
    "Quand la proba est à 0, cela veut dire que la probablité que l'état caché en question génére un élément de la séquence \n",
    "d'observation i est égale à 0."
   ]
  },
  {
   "cell_type": "raw",
   "metadata": {},
   "source": [
    "La matrice A: 0 veut dire que la probablité de transition de l'état i vers l'état j est égal à 0. ==> il n'y a pas de transition"
   ]
  },
  {
   "cell_type": "raw",
   "metadata": {},
   "source": [
    "vecteur pi: vecteur de porbabilité initial = probablité d'observer l'état i à l'instant initial (t=1) est égal à 0"
   ]
  },
  {
   "cell_type": "code",
   "execution_count": 28,
   "metadata": {},
   "outputs": [
    {
     "name": "stdout",
     "output_type": "stream",
     "text": [
      "# observations 32\n",
      "# etats 5\n"
     ]
    }
   ],
   "source": [
    "nb_observations=len(B0) #longeur d'une séquence d'observation\n",
    "nb_etats=len(B0[0])\n",
    "print(\"# observations\",nb_observations)\n",
    "print(\"# etats\",nb_etats)"
   ]
  },
  {
   "cell_type": "markdown",
   "metadata": {},
   "source": [
    "## II.2.2 fonction etat_suivant :"
   ]
  },
  {
   "cell_type": "markdown",
   "metadata": {},
   "source": [
    "Ecrire une fonction etat_suivant: qui génère un état qt+1(à t+1) à partir de l’état courant qt (à t)  à l’aide de la matrice de transitions et de la fonction de répartition cumsum.  Afficher la fonction de répartition pour une ligne de la matrice de transition et expliquer son rôle pour la génération de l’état à t+1. "
   ]
  },
  {
   "cell_type": "code",
   "execution_count": 29,
   "metadata": {},
   "outputs": [],
   "source": [
    "def etat_suivant(qt,A0):\n",
    "    rand=np.random.uniform(0,1)\n",
    "    row_trans_qt=A0[qt-1]\n",
    "    row_cumsum=np.cumsum(row_trans_qt)\n",
    "    rand_index=np.where(row_cumsum>=rand)[0][0]\n",
    "    qt1=rand_index+1\n",
    "#     print(\"rand=\",rand,\"qt=\",qt,\"rand_index\",rand_index,np.where(row_cumsum>=rand)[0])\n",
    "    return qt1"
   ]
  },
  {
   "cell_type": "code",
   "execution_count": 30,
   "metadata": {},
   "outputs": [],
   "source": [
    "import matplotlib.pyplot as plt"
   ]
  },
  {
   "cell_type": "code",
   "execution_count": 31,
   "metadata": {},
   "outputs": [
    {
     "data": {
      "text/plain": [
       "[<matplotlib.lines.Line2D at 0x1ecc2b7ca20>]"
      ]
     },
     "execution_count": 31,
     "metadata": {},
     "output_type": "execute_result"
    },
    {
     "data": {
      "image/png": "[encoded data removed]",
      "text/plain": [
       "<Figure size 432x288 with 1 Axes>"
      ]
     },
     "metadata": {},
     "output_type": "display_data"
    }
   ],
   "source": [
    "row_trans_qt0=A0[0]\n",
    "row_cumsum=np.cumsum(row_trans_qt0)\n",
    "plt.plot(row_cumsum)"
   ]
  },
  {
   "cell_type": "markdown",
   "metadata": {},
   "source": [
    "la fonction de répartition de la matrice de transition va permettre en fonction de la probablité observée (rand) pour un état donné ,de préciser l'état suivant auquel on passe."
   ]
  },
  {
   "cell_type": "markdown",
   "metadata": {},
   "source": [
    "## II.2.3 Générer une séquence d’observations"
   ]
  },
  {
   "cell_type": "markdown",
   "metadata": {},
   "source": [
    "II.2.3 Générer une séquence d’observations suivant le modèle de Markov Caché du chiffre 0. \n",
    "On commencera par générer une séquence d’états suivant ce modèle à l’aide de la fonction etat_suivant. \n",
    "Puis on générera la séquence d’observations par le même procédé. "
   ]
  },
  {
   "cell_type": "markdown",
   "metadata": {},
   "source": [
    "##### Générer les états: 28états (Dans B0 il y a 5 états)"
   ]
  },
  {
   "cell_type": "code",
   "execution_count": 32,
   "metadata": {},
   "outputs": [
    {
     "data": {
      "text/plain": [
       "array([1, 1, 1, 2, 3, 3, 3, 3, 4, 4, 4, 5, 5, 5, 5, 5, 5, 5, 5, 5, 5, 5,\n",
       "       5, 5, 5, 5, 5, 5], dtype=int64)"
      ]
     },
     "execution_count": 32,
     "metadata": {},
     "output_type": "execute_result"
    }
   ],
   "source": [
    "q1=int(vect_pi0[0]) #==> on ne peut commencer que par l'état 1\n",
    "seq_etats=[q1]\n",
    "qt=q1\n",
    "\n",
    "for i in range(27):\n",
    "    qt1=etat_suivant(qt,A0)\n",
    "    seq_etats.append(qt1)\n",
    "    qt=qt1\n",
    "np.array(seq_etats)"
   ]
  },
  {
   "cell_type": "code",
   "execution_count": 33,
   "metadata": {},
   "outputs": [
    {
     "data": {
      "text/plain": [
       "28"
      ]
     },
     "execution_count": 33,
     "metadata": {},
     "output_type": "execute_result"
    }
   ],
   "source": [
    "len(seq_etats)"
   ]
  },
  {
   "cell_type": "markdown",
   "metadata": {},
   "source": [
    "##### Générer les observations: 28 Observations comme dans l'exemple (Dans B0 il y a 32 Obs)"
   ]
  },
  {
   "cell_type": "code",
   "execution_count": 34,
   "metadata": {},
   "outputs": [],
   "source": [
    "#fonction observation suivante:\n",
    "def obs_suivante(qt,B0):\n",
    "    rand=np.random.uniform(0,1)\n",
    "    col_trans_qt=B0[:,qt-1]\n",
    "    col_cumsum=np.cumsum(col_trans_qt)\n",
    "    rand_index=np.where(col_cumsum>=rand)[0][0]\n",
    "    obs_ind=rand_index+1\n",
    "    return obs_ind"
   ]
  },
  {
   "cell_type": "markdown",
   "metadata": {},
   "source": [
    "Boucle sur la séquence d'états (5), et dans chaque état faire 28 itération pour générer les 28 observations"
   ]
  },
  {
   "cell_type": "code",
   "execution_count": 35,
   "metadata": {},
   "outputs": [
    {
     "data": {
      "text/plain": [
       "<matplotlib.image.AxesImage at 0x1ecc2bf88d0>"
      ]
     },
     "execution_count": 35,
     "metadata": {},
     "output_type": "execute_result"
    },
    {
     "data": {
      "image/png": "[encoded data removed]",
      "text/plain": [
       "<Figure size 432x288 with 1 Axes>"
      ]
     },
     "metadata": {},
     "output_type": "display_data"
    }
   ],
   "source": [
    "seq_obs=[]\n",
    "\n",
    "while len(seq_obs)<28:\n",
    "    for q in seq_etats:\n",
    "        obs_index=obs_suivante(q,B0)\n",
    "        if len(seq_obs)<28:\n",
    "            seq_obs.append(obs_index)\n",
    "#         print(\"obs #\",l,\"index q=\",j,\"sate(q)=\",q,\"obs index=\",obs_index)\n",
    "len(seq_obs)\n",
    "\n",
    "import matplotlib.pyplot as plt  \n",
    "im=[]\n",
    "for t in range (0,len(seq_obs)) :\n",
    "    im_col=v[:, seq_obs[t]-1] \n",
    "    im.append(im_col) \n",
    "\n",
    "im = np.array(im).T  # now make an array  \n",
    "plt.imshow(im*255, cmap=\"gray\", interpolation=\"none\", aspect=\"auto\") "
   ]
  },
  {
   "cell_type": "markdown",
   "metadata": {},
   "source": [
    "##### Avant de générer les autres chiffres, je fais une fonction qui récapitule tout le calcul"
   ]
  },
  {
   "cell_type": "code",
   "execution_count": 36,
   "metadata": {},
   "outputs": [],
   "source": [
    "def generate_class(A,B,vect_pi):\n",
    "    q1=int(vect_pi[0]) #==> 1 pour l'état 1, on ne peut commencer que par l'état 1\n",
    "    seq_etats=[q1]\n",
    "    qt=q1\n",
    "\n",
    "    for i in range(27):\n",
    "        qt1=etat_suivant(qt,A)\n",
    "        seq_etats.append(qt1)\n",
    "        qt=qt1\n",
    "    print(\"seq_etats\",seq_etats)\n",
    "\n",
    "    seq_obs=[]\n",
    "\n",
    "    for l in range(7):\n",
    "        for j,q in enumerate(seq_etats):\n",
    "            obs_index=obs_suivante(q,B)\n",
    "            if len(seq_obs)<28:\n",
    "                seq_obs.append(obs_index)\n",
    "    print(len(seq_obs))\n",
    "    print(\"sequence observations\",seq_obs)\n",
    "\n",
    "    # import matplotlib.pyplot as plt  \n",
    "    im=[]\n",
    "    for t in range (0,len(seq_obs)) :\n",
    "#     for t in range (0,len(seq_obs)) :\n",
    "        im_col=v[:, seq_obs[t]-1] \n",
    "        im.append(im_col) \n",
    "\n",
    "    im = np.array(im).T  # now make an array  \n",
    "    plt.imshow(im*255, cmap=\"gray\", interpolation=\"none\", aspect=\"auto\") "
   ]
  },
  {
   "cell_type": "markdown",
   "metadata": {},
   "source": [
    "### CHIFFRE 0"
   ]
  },
  {
   "cell_type": "code",
   "execution_count": 55,
   "metadata": {},
   "outputs": [
    {
     "name": "stdout",
     "output_type": "stream",
     "text": [
      "seq_etats [1, 1, 1, 2, 2, 2, 2, 2, 3, 3, 3, 3, 3, 3, 3, 3, 3, 3, 3, 3, 3, 3, 4, 5, 5, 5, 5, 5]\n",
      "28\n",
      "sequence observations [1, 1, 1, 23, 23, 23, 23, 23, 18, 18, 18, 12, 28, 18, 12, 18, 27, 12, 28, 9, 18, 12, 23, 1, 1, 1, 1, 1]\n"
     ]
    },
    {
     "data": {
      "image/png": "[encoded data removed]",
      "text/plain": [
       "<Figure size 432x288 with 1 Axes>"
      ]
     },
     "metadata": {},
     "output_type": "display_data"
    }
   ],
   "source": [
    "generate_class(A0,B0,vect_pi0)"
   ]
  },
  {
   "cell_type": "markdown",
   "metadata": {},
   "source": [
    "### CHIFFRE 1"
   ]
  },
  {
   "cell_type": "code",
   "execution_count": 38,
   "metadata": {},
   "outputs": [
    {
     "name": "stdout",
     "output_type": "stream",
     "text": [
      "seq_etats [1, 1, 1, 1, 1, 1, 1, 1, 1, 1, 1, 1, 1, 1, 1, 1, 2, 3, 3, 4, 5, 5, 5, 5, 5, 5, 5, 5]\n",
      "28\n",
      "sequence observations [1, 1, 1, 1, 1, 1, 1, 1, 1, 1, 1, 1, 1, 1, 1, 1, 23, 27, 26, 27, 1, 1, 1, 1, 1, 1, 1, 1]\n"
     ]
    },
    {
     "data": {
      "image/png": "[encoded data removed]",
      "text/plain": [
       "<Figure size 432x288 with 1 Axes>"
      ]
     },
     "metadata": {},
     "output_type": "display_data"
    }
   ],
   "source": [
    "generate_class(A1,B1,vect_pi1)"
   ]
  },
  {
   "cell_type": "markdown",
   "metadata": {},
   "source": [
    "### CHIFFRE 7"
   ]
  },
  {
   "cell_type": "code",
   "execution_count": 39,
   "metadata": {},
   "outputs": [
    {
     "name": "stdout",
     "output_type": "stream",
     "text": [
      "seq_etats [1, 2, 2, 2, 2, 3, 3, 3, 3, 3, 3, 4, 5, 5, 5, 5, 5, 5, 5, 5, 5, 5, 5, 5, 5, 5, 5, 5]\n",
      "28\n",
      "sequence observations [1, 3, 3, 3, 3, 30, 24, 30, 30, 23, 30, 11, 1, 1, 1, 1, 1, 1, 1, 1, 1, 1, 1, 1, 1, 1, 1, 1]\n"
     ]
    },
    {
     "data": {
      "image/png": "[encoded data removed]",
      "text/plain": [
       "<Figure size 432x288 with 1 Axes>"
      ]
     },
     "metadata": {},
     "output_type": "display_data"
    }
   ],
   "source": [
    "generate_class(A7,B7,vect_pi7)"
   ]
  },
  {
   "cell_type": "markdown",
   "metadata": {},
   "source": [
    "# II.3. Calcul des vraisemblances sur des séquences d’observation "
   ]
  },
  {
   "cell_type": "markdown",
   "metadata": {},
   "source": [
    "Les fichiers SeqTest0.txt, SeqTest1.txt, SeqTest7.txt  contiennent chacun 10 séquences d’observations de chiffres des 3 classes 0, 1 et 7, disposés en ligne. Le script suivant extrait la 5ème observation de la 3ème séquence des chiffres 0.  "
   ]
  },
  {
   "cell_type": "markdown",
   "metadata": {},
   "source": [
    "### II.3.1 Calculer la vraisemblance"
   ]
  },
  {
   "cell_type": "markdown",
   "metadata": {},
   "source": [
    "II.3.1 Calculer la vraisemblance des modèles (0, 1 et 7) par l’algorithme de Viterbi (on pourra implémenter la version logarithmique de cet algorithme). Pour cela les matrices A, B et π seront converties en logarithmes (utiliser np.log). "
   ]
  },
  {
   "cell_type": "markdown",
   "metadata": {},
   "source": [
    "####  II.3.1 Calculer la vraisemblance des séquences selon chacune des classes 0,1,7"
   ]
  },
  {
   "cell_type": "markdown",
   "metadata": {},
   "source": [
    "### algorithme de Viterbi (sans log)"
   ]
  },
  {
   "cell_type": "markdown",
   "metadata": {},
   "source": [
    "##### Exemple du cours (P(aabb|lambda))"
   ]
  },
  {
   "cell_type": "code",
   "execution_count": 40,
   "metadata": {},
   "outputs": [
    {
     "name": "stdout",
     "output_type": "stream",
     "text": [
      "0.105\n",
      "last_state 3\n"
     ]
    }
   ],
   "source": [
    "A=[[0.3,0.5,0.2],[0, 0.3,0.7],[0,0,1]]\n",
    "B=[[1,0.5,0],[0,0.5,1]]\n",
    "vect_pi=[0.6,0.4,0]\n",
    "seq=[1,1,2,2]\n",
    "\n",
    "obs_1=seq[0]\n",
    "delta_1=np.array(B[obs_1-1])*np.array(vect_pi)\n",
    "delta_t=delta_1\n",
    "delta_all=[delta_1]\n",
    "for t in range(1,len(seq)):\n",
    "    obs_t=seq[t]\n",
    "    probObs=B[obs_t-1]\n",
    "    probTrans=np.array(A)*delta_t[:, np.newaxis]\n",
    "    delta_t1=probObs*np.max(probTrans,axis=0)\n",
    "    delta_t=delta_t1\n",
    "    delta_all.append(delta_t1)\n",
    "\n",
    "vraisemblance=np.max(delta_all[-1])\n",
    "print(vraisemblance)\n",
    "index_max=np.argwhere(delta_all[-1]==vraisemblance)[0][0]\n",
    "print(\"last_state\",index_max+1)"
   ]
  },
  {
   "cell_type": "markdown",
   "metadata": {},
   "source": [
    "###### Plot 1ère sèquence de la classe 0 "
   ]
  },
  {
   "cell_type": "code",
   "execution_count": 41,
   "metadata": {},
   "outputs": [
    {
     "data": {
      "text/plain": [
       "<matplotlib.image.AxesImage at 0x1ecc2d54860>"
      ]
     },
     "execution_count": 41,
     "metadata": {},
     "output_type": "execute_result"
    },
    {
     "data": {
      "image/png": "[encoded data removed]",
      "text/plain": [
       "<Figure size 432x288 with 1 Axes>"
      ]
     },
     "metadata": {},
     "output_type": "display_data"
    }
   ],
   "source": [
    "seq_obs=seqTest0[0]\n",
    "im=[]\n",
    "for t in range (0,len(seq_obs)) :\n",
    "    im_col=v[:, int(seq_obs[t])-1] \n",
    "    im.append(im_col) \n",
    "\n",
    "im = np.array(im).T  # now make an array  \n",
    "plt.imshow(im*255, cmap=\"gray\", interpolation=\"none\", aspect=\"auto\") "
   ]
  },
  {
   "cell_type": "markdown",
   "metadata": {},
   "source": [
    "##### Fonction de vraissemblance"
   ]
  },
  {
   "cell_type": "code",
   "execution_count": 42,
   "metadata": {},
   "outputs": [],
   "source": [
    "def vraissemblance_seq(A,B,vect_pi,seq):\n",
    "    obs_1=seq[0]\n",
    "    delta_1=np.array(B[obs_1-1])*np.array(vect_pi)\n",
    "    delta_t=delta_1\n",
    "    delta_all=[delta_1]\n",
    "    for t in range(1,len(seq)):\n",
    "        obs_t=seq[t]\n",
    "        probObs=B[obs_t-1]\n",
    "        probTrans=np.array(A)*delta_t[:, np.newaxis]\n",
    "        delta_t1=probObs*np.max(probTrans,axis=0)\n",
    "        delta_t=delta_t1\n",
    "        delta_all.append(delta_t1)\n",
    "\n",
    "    vraisemblance=np.max(delta_all[-1])\n",
    "    return vraisemblance"
   ]
  },
  {
   "cell_type": "markdown",
   "metadata": {},
   "source": [
    "##### Boucle sur les matrices et les séquences test ==> on sauvegarde les résultats dans un array (\"res\")"
   ]
  },
  {
   "cell_type": "markdown",
   "metadata": {},
   "source": [
    "On calcule également la meilleure proba entre les 3 classes, on note la classe correspondante pour la comparer à la vraie class dans la question d'après (Calcul de l'accuracy)"
   ]
  },
  {
   "cell_type": "code",
   "execution_count": 43,
   "metadata": {},
   "outputs": [],
   "source": [
    "matrices=[(A0,B0,vect_pi0),(A1,B1,vect_pi1),(A7,B7,vect_pi7)]\n",
    "seqTests=[seqTest0,seqTest1,seqTest7]\n",
    "res=[]\n",
    "for j,seqTestClasse in enumerate(seqTests):\n",
    "    if j==2:\n",
    "        j=7\n",
    "    for i, seqTest in enumerate(seqTestClasse):\n",
    "        seq=[int(elem) for elem in seqTest]\n",
    "        P=[]\n",
    "        for k,(A,B, vect_pi) in enumerate(matrices):\n",
    "            Pi=vraissemblance_seq(A,B,vect_pi,seq)\n",
    "            P.append(float(Pi))\n",
    "        pred_proba=np.max(P)\n",
    "        pred_class=np.argwhere(P==pred_proba)[0][0]\n",
    "        if pred_class==2:\n",
    "            pred_class=7\n",
    "        P.extend([pred_proba,pred_class])\n",
    "        res.append([\"seqTest\"+str(j)+\"_\"+str(i),P,j])"
   ]
  },
  {
   "cell_type": "markdown",
   "metadata": {},
   "source": [
    "On enregistre ces données sous forme d'un dataframe pandas pour mieux visualiser les données et faire certaines calculs"
   ]
  },
  {
   "cell_type": "code",
   "execution_count": 44,
   "metadata": {},
   "outputs": [],
   "source": [
    "import pandas as pd"
   ]
  },
  {
   "cell_type": "code",
   "execution_count": 45,
   "metadata": {},
   "outputs": [
    {
     "data": {
      "text/html": [
       "<div>\n",
       "<style scoped>\n",
       "    .dataframe tbody tr th:only-of-type {\n",
       "        vertical-align: middle;\n",
       "    }\n",
       "\n",
       "    .dataframe tbody tr th {\n",
       "        vertical-align: top;\n",
       "    }\n",
       "\n",
       "    .dataframe thead th {\n",
       "        text-align: right;\n",
       "    }\n",
       "</style>\n",
       "<table border=\"1\" class=\"dataframe\">\n",
       "  <thead>\n",
       "    <tr style=\"text-align: right;\">\n",
       "      <th></th>\n",
       "      <th>seqTest</th>\n",
       "      <th>true_class</th>\n",
       "      <th>P0</th>\n",
       "      <th>P1</th>\n",
       "      <th>P7</th>\n",
       "      <th>P_pred</th>\n",
       "      <th>pred_class</th>\n",
       "    </tr>\n",
       "  </thead>\n",
       "  <tbody>\n",
       "    <tr>\n",
       "      <th>0</th>\n",
       "      <td>seqTest0_0</td>\n",
       "      <td>0</td>\n",
       "      <td>2.065102e-13</td>\n",
       "      <td>4.034665e-41</td>\n",
       "      <td>7.662645e-47</td>\n",
       "      <td>2.065102e-13</td>\n",
       "      <td>0</td>\n",
       "    </tr>\n",
       "    <tr>\n",
       "      <th>1</th>\n",
       "      <td>seqTest0_1</td>\n",
       "      <td>0</td>\n",
       "      <td>6.400822e-15</td>\n",
       "      <td>5.457237e-40</td>\n",
       "      <td>1.408279e-39</td>\n",
       "      <td>6.400822e-15</td>\n",
       "      <td>0</td>\n",
       "    </tr>\n",
       "    <tr>\n",
       "      <th>2</th>\n",
       "      <td>seqTest0_2</td>\n",
       "      <td>0</td>\n",
       "      <td>2.106960e-17</td>\n",
       "      <td>1.491235e-27</td>\n",
       "      <td>1.421239e-21</td>\n",
       "      <td>2.106960e-17</td>\n",
       "      <td>0</td>\n",
       "    </tr>\n",
       "    <tr>\n",
       "      <th>3</th>\n",
       "      <td>seqTest0_3</td>\n",
       "      <td>0</td>\n",
       "      <td>1.072206e-14</td>\n",
       "      <td>4.620098e-52</td>\n",
       "      <td>1.632659e-50</td>\n",
       "      <td>1.072206e-14</td>\n",
       "      <td>0</td>\n",
       "    </tr>\n",
       "    <tr>\n",
       "      <th>4</th>\n",
       "      <td>seqTest0_4</td>\n",
       "      <td>0</td>\n",
       "      <td>8.246300e-22</td>\n",
       "      <td>2.555503e-33</td>\n",
       "      <td>6.124899e-48</td>\n",
       "      <td>8.246300e-22</td>\n",
       "      <td>0</td>\n",
       "    </tr>\n",
       "  </tbody>\n",
       "</table>\n",
       "</div>"
      ],
      "text/plain": [
       "      seqTest  true_class            P0            P1            P7  \\\n",
       "0  seqTest0_0           0  2.065102e-13  4.034665e-41  7.662645e-47   \n",
       "1  seqTest0_1           0  6.400822e-15  5.457237e-40  1.408279e-39   \n",
       "2  seqTest0_2           0  2.106960e-17  1.491235e-27  1.421239e-21   \n",
       "3  seqTest0_3           0  1.072206e-14  4.620098e-52  1.632659e-50   \n",
       "4  seqTest0_4           0  8.246300e-22  2.555503e-33  6.124899e-48   \n",
       "\n",
       "         P_pred  pred_class  \n",
       "0  2.065102e-13           0  \n",
       "1  6.400822e-15           0  \n",
       "2  2.106960e-17           0  \n",
       "3  1.072206e-14           0  \n",
       "4  8.246300e-22           0  "
      ]
     },
     "execution_count": 45,
     "metadata": {},
     "output_type": "execute_result"
    }
   ],
   "source": [
    "df=pd.DataFrame(data=res,columns=['seqTest','proba','true_class'])\n",
    "df['P0']=df['proba'].apply(lambda x : x[0])\n",
    "df['P1']=df['proba'].apply(lambda x : x[1])\n",
    "df['P7']=df['proba'].apply(lambda x : x[2])\n",
    "df['P_pred']=df['proba'].apply(lambda x : x[3])\n",
    "df['pred_class']=df['proba'].apply(lambda x : x[4])\n",
    "df=df.drop(columns=['proba'])\n",
    "df.head()"
   ]
  },
  {
   "cell_type": "markdown",
   "metadata": {},
   "source": [
    "### Vietrbi en log \n",
    "==> Modifier le calcul de la vraisemblance ==> des sommes à la place des multiplications à cause du log \n",
    "==> Retransformer les deltas avec les np.exp "
   ]
  },
  {
   "cell_type": "code",
   "execution_count": 46,
   "metadata": {},
   "outputs": [
    {
     "data": {
      "text/html": [
       "<div>\n",
       "<style scoped>\n",
       "    .dataframe tbody tr th:only-of-type {\n",
       "        vertical-align: middle;\n",
       "    }\n",
       "\n",
       "    .dataframe tbody tr th {\n",
       "        vertical-align: top;\n",
       "    }\n",
       "\n",
       "    .dataframe thead th {\n",
       "        text-align: right;\n",
       "    }\n",
       "</style>\n",
       "<table border=\"1\" class=\"dataframe\">\n",
       "  <thead>\n",
       "    <tr style=\"text-align: right;\">\n",
       "      <th></th>\n",
       "      <th>seqTest</th>\n",
       "      <th>true_class</th>\n",
       "      <th>P0</th>\n",
       "      <th>P1</th>\n",
       "      <th>P7</th>\n",
       "      <th>P_pred</th>\n",
       "      <th>pred_class</th>\n",
       "    </tr>\n",
       "  </thead>\n",
       "  <tbody>\n",
       "    <tr>\n",
       "      <th>0</th>\n",
       "      <td>seqTest0_0</td>\n",
       "      <td>0</td>\n",
       "      <td>2.065102e-13</td>\n",
       "      <td>1.780884e-40</td>\n",
       "      <td>1.115549e-45</td>\n",
       "      <td>2.065102e-13</td>\n",
       "      <td>0</td>\n",
       "    </tr>\n",
       "    <tr>\n",
       "      <th>1</th>\n",
       "      <td>seqTest0_1</td>\n",
       "      <td>0</td>\n",
       "      <td>6.400822e-15</td>\n",
       "      <td>4.068781e-38</td>\n",
       "      <td>1.724135e-39</td>\n",
       "      <td>6.400822e-15</td>\n",
       "      <td>0</td>\n",
       "    </tr>\n",
       "    <tr>\n",
       "      <th>2</th>\n",
       "      <td>seqTest0_2</td>\n",
       "      <td>0</td>\n",
       "      <td>2.303361e-16</td>\n",
       "      <td>6.266486e-27</td>\n",
       "      <td>3.843145e-21</td>\n",
       "      <td>2.303361e-16</td>\n",
       "      <td>0</td>\n",
       "    </tr>\n",
       "    <tr>\n",
       "      <th>3</th>\n",
       "      <td>seqTest0_3</td>\n",
       "      <td>0</td>\n",
       "      <td>1.072206e-14</td>\n",
       "      <td>1.443705e-49</td>\n",
       "      <td>4.949003e-48</td>\n",
       "      <td>1.072206e-14</td>\n",
       "      <td>0</td>\n",
       "    </tr>\n",
       "    <tr>\n",
       "      <th>4</th>\n",
       "      <td>seqTest0_4</td>\n",
       "      <td>0</td>\n",
       "      <td>8.246300e-22</td>\n",
       "      <td>3.278617e-33</td>\n",
       "      <td>8.307135e-46</td>\n",
       "      <td>8.246300e-22</td>\n",
       "      <td>0</td>\n",
       "    </tr>\n",
       "    <tr>\n",
       "      <th>5</th>\n",
       "      <td>seqTest0_5</td>\n",
       "      <td>0</td>\n",
       "      <td>1.048845e-14</td>\n",
       "      <td>1.235372e-35</td>\n",
       "      <td>5.472482e-42</td>\n",
       "      <td>1.048845e-14</td>\n",
       "      <td>0</td>\n",
       "    </tr>\n",
       "    <tr>\n",
       "      <th>6</th>\n",
       "      <td>seqTest0_6</td>\n",
       "      <td>0</td>\n",
       "      <td>4.776078e-16</td>\n",
       "      <td>1.811247e-30</td>\n",
       "      <td>9.225466e-26</td>\n",
       "      <td>4.776078e-16</td>\n",
       "      <td>0</td>\n",
       "    </tr>\n",
       "    <tr>\n",
       "      <th>7</th>\n",
       "      <td>seqTest0_7</td>\n",
       "      <td>0</td>\n",
       "      <td>7.810898e-12</td>\n",
       "      <td>1.662920e-32</td>\n",
       "      <td>5.033431e-36</td>\n",
       "      <td>7.810898e-12</td>\n",
       "      <td>0</td>\n",
       "    </tr>\n",
       "    <tr>\n",
       "      <th>8</th>\n",
       "      <td>seqTest0_8</td>\n",
       "      <td>0</td>\n",
       "      <td>3.917130e-19</td>\n",
       "      <td>1.846672e-44</td>\n",
       "      <td>4.193197e-42</td>\n",
       "      <td>3.917130e-19</td>\n",
       "      <td>0</td>\n",
       "    </tr>\n",
       "    <tr>\n",
       "      <th>9</th>\n",
       "      <td>seqTest0_9</td>\n",
       "      <td>0</td>\n",
       "      <td>3.286465e-10</td>\n",
       "      <td>1.286577e-16</td>\n",
       "      <td>5.770984e-25</td>\n",
       "      <td>3.286465e-10</td>\n",
       "      <td>0</td>\n",
       "    </tr>\n",
       "  </tbody>\n",
       "</table>\n",
       "</div>"
      ],
      "text/plain": [
       "      seqTest  true_class            P0            P1            P7  \\\n",
       "0  seqTest0_0           0  2.065102e-13  1.780884e-40  1.115549e-45   \n",
       "1  seqTest0_1           0  6.400822e-15  4.068781e-38  1.724135e-39   \n",
       "2  seqTest0_2           0  2.303361e-16  6.266486e-27  3.843145e-21   \n",
       "3  seqTest0_3           0  1.072206e-14  1.443705e-49  4.949003e-48   \n",
       "4  seqTest0_4           0  8.246300e-22  3.278617e-33  8.307135e-46   \n",
       "5  seqTest0_5           0  1.048845e-14  1.235372e-35  5.472482e-42   \n",
       "6  seqTest0_6           0  4.776078e-16  1.811247e-30  9.225466e-26   \n",
       "7  seqTest0_7           0  7.810898e-12  1.662920e-32  5.033431e-36   \n",
       "8  seqTest0_8           0  3.917130e-19  1.846672e-44  4.193197e-42   \n",
       "9  seqTest0_9           0  3.286465e-10  1.286577e-16  5.770984e-25   \n",
       "\n",
       "         P_pred  pred_class  \n",
       "0  2.065102e-13           0  \n",
       "1  6.400822e-15           0  \n",
       "2  2.303361e-16           0  \n",
       "3  1.072206e-14           0  \n",
       "4  8.246300e-22           0  \n",
       "5  1.048845e-14           0  \n",
       "6  4.776078e-16           0  \n",
       "7  7.810898e-12           0  \n",
       "8  3.917130e-19           0  \n",
       "9  3.286465e-10           0  "
      ]
     },
     "execution_count": 46,
     "metadata": {},
     "output_type": "execute_result"
    }
   ],
   "source": [
    "########### Appliquer le log aux matrices A, B, vect_pi ###########\n",
    "epsl=0.001\n",
    "# A0[A0==0]=epsilon\n",
    "# A1[A1==0]=epsilon\n",
    "\n",
    "def epsilon(A):\n",
    "    A[A==0]=epsl\n",
    "    return A\n",
    "matrices_log=[]\n",
    "matrices=[(A0,B0,vect_pi0),(A1,B1,vect_pi1),(A7,B7,vect_pi7)]\n",
    "for A,B, vect_pi in matrices:\n",
    "    A=np.log(epsilon(A))\n",
    "    B=np.log(epsilon(B))\n",
    "    vect_pi=np.log(epsilon(vect_pi))\n",
    "    matrices_log.append((A,B,vect_pi))\n",
    "    \n",
    "########### Fonction de vraissemblance/Viterbi Log  ###########\n",
    "def vraissemblance_seq_log(A,B,vect_pi,seq):\n",
    "    obs_1=seq[0]\n",
    "    delta_1_log=np.array(B[obs_1-1])+np.array(vect_pi)\n",
    "#     delta_t=np.exp(delta_1_log)\n",
    "    delta_t=delta_1_log\n",
    "    delta_all=[np.exp(delta_t)]\n",
    "    for t in range(1,len(seq)):\n",
    "        obs_t=seq[t]\n",
    "        probObs=B[obs_t-1]\n",
    "        probTrans=np.array(A)+delta_t[:, np.newaxis]\n",
    "        delta_t1=probObs+np.max(probTrans,axis=0)\n",
    "        delta_t=delta_t1\n",
    "        delta_all.append(np.exp(delta_t1))\n",
    "\n",
    "    vraisemblance=np.max(delta_all[-1])\n",
    "    return vraisemblance\n",
    "\n",
    "\n",
    "########### Application de viterbi log aux différentes séquences/Classes ###########\n",
    "matrices=[(A0,B0,vect_pi0),(A1,B1,vect_pi1),(A7,B7,vect_pi7)]\n",
    "seqTests=[seqTest0,seqTest1,seqTest7]\n",
    "res_log=[]\n",
    "for j,seqTestClasse in enumerate(seqTests):\n",
    "    if j==2:\n",
    "        j=7\n",
    "    for i, seqTest in enumerate(seqTestClasse):\n",
    "        seq=[int(elem) for elem in seqTest]\n",
    "        P=[]\n",
    "        for k,(A,B, vect_pi) in enumerate(matrices_log):\n",
    "            Pi=vraissemblance_seq_log(A,B,vect_pi,seq)\n",
    "            P.append(float(Pi))\n",
    "        pred_proba=np.max(P)\n",
    "        pred_class=np.argwhere(P==pred_proba)[0][0]\n",
    "        if pred_class==2:\n",
    "            pred_class=7\n",
    "        P.extend([pred_proba,pred_class])\n",
    "        res_log.append([\"seqTest\"+str(j)+\"_\"+str(i),P,j])\n",
    "        \n",
    "########### Enregistrement des résultats \"res_log\" dans un dataframe pour mieux les visualiser ###########\n",
    "df_log=pd.DataFrame(data=res_log,columns=['seqTest','proba','true_class'])\n",
    "df_log['P0']=df_log['proba'].apply(lambda x : x[0])\n",
    "df_log['P1']=df_log['proba'].apply(lambda x : x[1])\n",
    "df_log['P7']=df_log['proba'].apply(lambda x : x[2])\n",
    "df_log['P_pred']=df_log['proba'].apply(lambda x : x[3])\n",
    "df_log['pred_class']=df_log['proba'].apply(lambda x : x[4])\n",
    "df_log=df_log.drop(columns=['proba'])\n",
    "df_log.head(10)"
   ]
  },
  {
   "cell_type": "markdown",
   "metadata": {},
   "source": [
    "### II.3.2 Donner le résultat de la classification des images de test"
   ]
  },
  {
   "cell_type": "code",
   "execution_count": 47,
   "metadata": {},
   "outputs": [],
   "source": [
    "from sklearn.metrics import accuracy_score\n",
    "from sklearn.metrics import confusion_matrix as cm"
   ]
  },
  {
   "cell_type": "markdown",
   "metadata": {},
   "source": [
    "#### Resultats de Viterbi sans log (les resultats sont le dataframe df)"
   ]
  },
  {
   "cell_type": "code",
   "execution_count": 48,
   "metadata": {},
   "outputs": [
    {
     "name": "stdout",
     "output_type": "stream",
     "text": [
      "accuracy 0.9666666666666667\n",
      "matrice de confusion\n"
     ]
    },
    {
     "data": {
      "text/plain": [
       "array([[10,  0,  0],\n",
       "       [ 0, 10,  0],\n",
       "       [ 0,  1,  9]], dtype=int64)"
      ]
     },
     "execution_count": 48,
     "metadata": {},
     "output_type": "execute_result"
    }
   ],
   "source": [
    "print(\"accuracy\",accuracy_score(df['true_class'],df['pred_class']))\n",
    "print(\"matrice de confusion\")\n",
    "cm(df['true_class'],df['pred_class'])"
   ]
  },
  {
   "cell_type": "markdown",
   "metadata": {},
   "source": [
    "on remarque pour la classe 7, il y a une séquence mal classée 1 au lieu de 7"
   ]
  },
  {
   "cell_type": "code",
   "execution_count": 49,
   "metadata": {},
   "outputs": [
    {
     "data": {
      "text/html": [
       "<div>\n",
       "<style scoped>\n",
       "    .dataframe tbody tr th:only-of-type {\n",
       "        vertical-align: middle;\n",
       "    }\n",
       "\n",
       "    .dataframe tbody tr th {\n",
       "        vertical-align: top;\n",
       "    }\n",
       "\n",
       "    .dataframe thead th {\n",
       "        text-align: right;\n",
       "    }\n",
       "</style>\n",
       "<table border=\"1\" class=\"dataframe\">\n",
       "  <thead>\n",
       "    <tr style=\"text-align: right;\">\n",
       "      <th></th>\n",
       "      <th>seqTest</th>\n",
       "      <th>true_class</th>\n",
       "      <th>P0</th>\n",
       "      <th>P1</th>\n",
       "      <th>P7</th>\n",
       "      <th>P_pred</th>\n",
       "      <th>pred_class</th>\n",
       "    </tr>\n",
       "  </thead>\n",
       "  <tbody>\n",
       "    <tr>\n",
       "      <th>20</th>\n",
       "      <td>seqTest7_0</td>\n",
       "      <td>7</td>\n",
       "      <td>4.795821e-39</td>\n",
       "      <td>3.789109e-36</td>\n",
       "      <td>7.243928e-15</td>\n",
       "      <td>7.243928e-15</td>\n",
       "      <td>7</td>\n",
       "    </tr>\n",
       "    <tr>\n",
       "      <th>21</th>\n",
       "      <td>seqTest7_1</td>\n",
       "      <td>7</td>\n",
       "      <td>3.527406e-24</td>\n",
       "      <td>1.991691e-25</td>\n",
       "      <td>2.266707e-14</td>\n",
       "      <td>2.266707e-14</td>\n",
       "      <td>7</td>\n",
       "    </tr>\n",
       "    <tr>\n",
       "      <th>22</th>\n",
       "      <td>seqTest7_2</td>\n",
       "      <td>7</td>\n",
       "      <td>1.200761e-26</td>\n",
       "      <td>2.323210e-19</td>\n",
       "      <td>1.102142e-21</td>\n",
       "      <td>2.323210e-19</td>\n",
       "      <td>1</td>\n",
       "    </tr>\n",
       "    <tr>\n",
       "      <th>23</th>\n",
       "      <td>seqTest7_3</td>\n",
       "      <td>7</td>\n",
       "      <td>5.557022e-31</td>\n",
       "      <td>1.555863e-32</td>\n",
       "      <td>3.290629e-19</td>\n",
       "      <td>3.290629e-19</td>\n",
       "      <td>7</td>\n",
       "    </tr>\n",
       "    <tr>\n",
       "      <th>24</th>\n",
       "      <td>seqTest7_4</td>\n",
       "      <td>7</td>\n",
       "      <td>1.029465e-39</td>\n",
       "      <td>8.695819e-26</td>\n",
       "      <td>3.501413e-11</td>\n",
       "      <td>3.501413e-11</td>\n",
       "      <td>7</td>\n",
       "    </tr>\n",
       "    <tr>\n",
       "      <th>25</th>\n",
       "      <td>seqTest7_5</td>\n",
       "      <td>7</td>\n",
       "      <td>1.123991e-16</td>\n",
       "      <td>1.112535e-25</td>\n",
       "      <td>1.592518e-13</td>\n",
       "      <td>1.592518e-13</td>\n",
       "      <td>7</td>\n",
       "    </tr>\n",
       "    <tr>\n",
       "      <th>26</th>\n",
       "      <td>seqTest7_6</td>\n",
       "      <td>7</td>\n",
       "      <td>7.863251e-41</td>\n",
       "      <td>2.841731e-34</td>\n",
       "      <td>9.022997e-10</td>\n",
       "      <td>9.022997e-10</td>\n",
       "      <td>7</td>\n",
       "    </tr>\n",
       "    <tr>\n",
       "      <th>27</th>\n",
       "      <td>seqTest7_7</td>\n",
       "      <td>7</td>\n",
       "      <td>6.371738e-26</td>\n",
       "      <td>4.605463e-23</td>\n",
       "      <td>4.472824e-21</td>\n",
       "      <td>4.472824e-21</td>\n",
       "      <td>7</td>\n",
       "    </tr>\n",
       "    <tr>\n",
       "      <th>28</th>\n",
       "      <td>seqTest7_8</td>\n",
       "      <td>7</td>\n",
       "      <td>2.086551e-34</td>\n",
       "      <td>3.369050e-35</td>\n",
       "      <td>2.018303e-14</td>\n",
       "      <td>2.018303e-14</td>\n",
       "      <td>7</td>\n",
       "    </tr>\n",
       "    <tr>\n",
       "      <th>29</th>\n",
       "      <td>seqTest7_9</td>\n",
       "      <td>7</td>\n",
       "      <td>1.780265e-39</td>\n",
       "      <td>1.671530e-38</td>\n",
       "      <td>8.034491e-12</td>\n",
       "      <td>8.034491e-12</td>\n",
       "      <td>7</td>\n",
       "    </tr>\n",
       "  </tbody>\n",
       "</table>\n",
       "</div>"
      ],
      "text/plain": [
       "       seqTest  true_class            P0            P1            P7  \\\n",
       "20  seqTest7_0           7  4.795821e-39  3.789109e-36  7.243928e-15   \n",
       "21  seqTest7_1           7  3.527406e-24  1.991691e-25  2.266707e-14   \n",
       "22  seqTest7_2           7  1.200761e-26  2.323210e-19  1.102142e-21   \n",
       "23  seqTest7_3           7  5.557022e-31  1.555863e-32  3.290629e-19   \n",
       "24  seqTest7_4           7  1.029465e-39  8.695819e-26  3.501413e-11   \n",
       "25  seqTest7_5           7  1.123991e-16  1.112535e-25  1.592518e-13   \n",
       "26  seqTest7_6           7  7.863251e-41  2.841731e-34  9.022997e-10   \n",
       "27  seqTest7_7           7  6.371738e-26  4.605463e-23  4.472824e-21   \n",
       "28  seqTest7_8           7  2.086551e-34  3.369050e-35  2.018303e-14   \n",
       "29  seqTest7_9           7  1.780265e-39  1.671530e-38  8.034491e-12   \n",
       "\n",
       "          P_pred  pred_class  \n",
       "20  7.243928e-15           7  \n",
       "21  2.266707e-14           7  \n",
       "22  2.323210e-19           1  \n",
       "23  3.290629e-19           7  \n",
       "24  3.501413e-11           7  \n",
       "25  1.592518e-13           7  \n",
       "26  9.022997e-10           7  \n",
       "27  4.472824e-21           7  \n",
       "28  2.018303e-14           7  \n",
       "29  8.034491e-12           7  "
      ]
     },
     "execution_count": 49,
     "metadata": {},
     "output_type": "execute_result"
    }
   ],
   "source": [
    "df.query('true_class==7')"
   ]
  },
  {
   "cell_type": "markdown",
   "metadata": {},
   "source": [
    "##### plot de la sequence: seqTest7_2 ==> SequenceTest7 ==> la 3ème séquence"
   ]
  },
  {
   "cell_type": "code",
   "execution_count": 50,
   "metadata": {},
   "outputs": [
    {
     "data": {
      "text/html": [
       "<div>\n",
       "<style scoped>\n",
       "    .dataframe tbody tr th:only-of-type {\n",
       "        vertical-align: middle;\n",
       "    }\n",
       "\n",
       "    .dataframe tbody tr th {\n",
       "        vertical-align: top;\n",
       "    }\n",
       "\n",
       "    .dataframe thead th {\n",
       "        text-align: right;\n",
       "    }\n",
       "</style>\n",
       "<table border=\"1\" class=\"dataframe\">\n",
       "  <thead>\n",
       "    <tr style=\"text-align: right;\">\n",
       "      <th></th>\n",
       "      <th>seqTest</th>\n",
       "      <th>true_class</th>\n",
       "      <th>P0</th>\n",
       "      <th>P1</th>\n",
       "      <th>P7</th>\n",
       "      <th>P_pred</th>\n",
       "      <th>pred_class</th>\n",
       "    </tr>\n",
       "  </thead>\n",
       "  <tbody>\n",
       "    <tr>\n",
       "      <th>22</th>\n",
       "      <td>seqTest7_2</td>\n",
       "      <td>7</td>\n",
       "      <td>1.200761e-26</td>\n",
       "      <td>2.323210e-19</td>\n",
       "      <td>1.102142e-21</td>\n",
       "      <td>2.323210e-19</td>\n",
       "      <td>1</td>\n",
       "    </tr>\n",
       "  </tbody>\n",
       "</table>\n",
       "</div>"
      ],
      "text/plain": [
       "       seqTest  true_class            P0            P1            P7  \\\n",
       "22  seqTest7_2           7  1.200761e-26  2.323210e-19  1.102142e-21   \n",
       "\n",
       "          P_pred  pred_class  \n",
       "22  2.323210e-19           1  "
      ]
     },
     "execution_count": 50,
     "metadata": {},
     "output_type": "execute_result"
    }
   ],
   "source": [
    "df[df['seqTest']=='seqTest7_2']"
   ]
  },
  {
   "cell_type": "code",
   "execution_count": 51,
   "metadata": {},
   "outputs": [
    {
     "data": {
      "text/plain": [
       "<matplotlib.image.AxesImage at 0x1ecc577cb00>"
      ]
     },
     "execution_count": 51,
     "metadata": {},
     "output_type": "execute_result"
    },
    {
     "data": {
      "image/png": "[encoded data removed]",
      "text/plain": [
       "<Figure size 432x288 with 1 Axes>"
      ]
     },
     "metadata": {},
     "output_type": "display_data"
    }
   ],
   "source": [
    "seq_obs=seqTest7[2]\n",
    "im=[]\n",
    "for t in range (0,len(seq_obs)) :\n",
    "    im_col=v[:, int(seq_obs[t])-1] \n",
    "    im.append(im_col) \n",
    "\n",
    "im = np.array(im).T  # now make an array  \n",
    "plt.imshow(im*255, cmap=\"gray\", interpolation=\"none\", aspect=\"auto\") "
   ]
  },
  {
   "cell_type": "markdown",
   "metadata": {},
   "source": [
    "#### Resultats de Viterbi avec log (les resultats sont le dataframe df_log)"
   ]
  },
  {
   "cell_type": "code",
   "execution_count": 52,
   "metadata": {},
   "outputs": [
    {
     "name": "stdout",
     "output_type": "stream",
     "text": [
      "accuracy 0.9666666666666667\n",
      "matrice de confusion\n"
     ]
    },
    {
     "data": {
      "text/plain": [
       "array([[10,  0,  0],\n",
       "       [ 0, 10,  0],\n",
       "       [ 0,  1,  9]], dtype=int64)"
      ]
     },
     "execution_count": 52,
     "metadata": {},
     "output_type": "execute_result"
    }
   ],
   "source": [
    "########### Calcul: \"accuracy\" et matrice de confusion ###########\n",
    "print(\"accuracy\",accuracy_score(df_log['true_class'],df_log['pred_class']))\n",
    "print(\"matrice de confusion\")\n",
    "cm(df_log['true_class'],df_log['pred_class'])"
   ]
  },
  {
   "cell_type": "code",
   "execution_count": 53,
   "metadata": {},
   "outputs": [
    {
     "data": {
      "text/html": [
       "<div>\n",
       "<style scoped>\n",
       "    .dataframe tbody tr th:only-of-type {\n",
       "        vertical-align: middle;\n",
       "    }\n",
       "\n",
       "    .dataframe tbody tr th {\n",
       "        vertical-align: top;\n",
       "    }\n",
       "\n",
       "    .dataframe thead th {\n",
       "        text-align: right;\n",
       "    }\n",
       "</style>\n",
       "<table border=\"1\" class=\"dataframe\">\n",
       "  <thead>\n",
       "    <tr style=\"text-align: right;\">\n",
       "      <th></th>\n",
       "      <th>seqTest</th>\n",
       "      <th>true_class</th>\n",
       "      <th>P0</th>\n",
       "      <th>P1</th>\n",
       "      <th>P7</th>\n",
       "      <th>P_pred</th>\n",
       "      <th>pred_class</th>\n",
       "    </tr>\n",
       "  </thead>\n",
       "  <tbody>\n",
       "    <tr>\n",
       "      <th>22</th>\n",
       "      <td>seqTest7_2</td>\n",
       "      <td>7</td>\n",
       "      <td>5.263254e-24</td>\n",
       "      <td>3.368252e-19</td>\n",
       "      <td>4.519379e-20</td>\n",
       "      <td>3.368252e-19</td>\n",
       "      <td>1</td>\n",
       "    </tr>\n",
       "  </tbody>\n",
       "</table>\n",
       "</div>"
      ],
      "text/plain": [
       "       seqTest  true_class            P0            P1            P7  \\\n",
       "22  seqTest7_2           7  5.263254e-24  3.368252e-19  4.519379e-20   \n",
       "\n",
       "          P_pred  pred_class  \n",
       "22  3.368252e-19           1  "
      ]
     },
     "execution_count": 53,
     "metadata": {},
     "output_type": "execute_result"
    }
   ],
   "source": [
    "df_log[df_log['seqTest']=='seqTest7_2']"
   ]
  }
 ],
 "metadata": {
  "kernelspec": {
   "display_name": "Python 3",
   "language": "python",
   "name": "python3"
  },
  "language_info": {
   "codemirror_mode": {
    "name": "ipython",
    "version": 3
   },
   "file_extension": ".py",
   "mimetype": "text/x-python",
   "name": "python",
   "nbconvert_exporter": "python",
   "pygments_lexer": "ipython3",
   "version": "3.6.5"
  }
 },
 "nbformat": 4,
 "nbformat_minor": 2
}
